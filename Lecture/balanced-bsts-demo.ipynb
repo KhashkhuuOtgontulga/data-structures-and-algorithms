{
 "cells": [
  {
   "cell_type": "markdown",
   "metadata": {},
   "source": [
    "# Balanced BS Tree: AVL Tree\n",
    "\n",
    "## Agenda\n",
    "\n",
    "1. Motives\n",
    "2. \"Balanced\" binary trees\n",
    "3. Essential mechanic: rotation\n",
    "4. Out-of-balance scenarios & rotation recipes\n",
    "5. Generalized AVL rebalancing (insertion)\n",
    "6. Rebalancing on removal"
   ]
  },
  {
   "cell_type": "markdown",
   "metadata": {},
   "source": [
    "## 1. Motives"
   ]
  },
  {
   "cell_type": "code",
   "execution_count": 1,
   "metadata": {
    "collapsed": true
   },
   "outputs": [],
   "source": [
    "class BSTree:\n",
    "    class Node:\n",
    "        def __init__(self, val, left=None, right=None):\n",
    "            self.val = val\n",
    "            self.left = left\n",
    "            self.right = right\n",
    "            \n",
    "    def __init__(self):\n",
    "        self.size = 0\n",
    "        self.root = None\n",
    "    \n",
    "    def add(self, val):\n",
    "        assert(val not in self)\n",
    "        def add_rec(node):\n",
    "            if not node:\n",
    "                return BSTree.Node(val)\n",
    "            elif val < node.val:\n",
    "                node.left = add_rec(node.left)\n",
    "                return node\n",
    "            else:\n",
    "                node.right = add_rec(node.right)\n",
    "                return node\n",
    "        self.root = add_rec(self.root)\n",
    "        self.size += 1\n",
    "        \n",
    "    def __contains__(self, val):\n",
    "        def contains_rec(node):\n",
    "            if not node:\n",
    "                return False\n",
    "            elif val < node.val:\n",
    "                return contains_rec(node.left)\n",
    "            elif val > node.val:\n",
    "                return contains_rec(node.right)\n",
    "            else:\n",
    "                return True\n",
    "        return contains_rec(self.root)\n",
    "    \n",
    "    def __len__(self):\n",
    "        return self.size\n",
    "    \n",
    "    def __delitem__(self, val):\n",
    "        assert(val in self)\n",
    "        def delitem_rec(node):\n",
    "            if val < node.val:\n",
    "                node.left = delitem_rec(node.left)\n",
    "                return node\n",
    "            elif val > node.val:\n",
    "                node.right = delitem_rec(node.right)\n",
    "                return node\n",
    "            else:\n",
    "                if not node.left and not node.right:\n",
    "                    return None\n",
    "                elif node.left and not node.right:\n",
    "                    return node.left\n",
    "                elif node.right and not node.left:\n",
    "                    return node.right\n",
    "                else:\n",
    "                    # remove the largest value from the left subtree as a replacement\n",
    "                    # for the root value of this tree\n",
    "                    t = node.left\n",
    "                    if not t.right:\n",
    "                        node.val = t.val\n",
    "                        node.left = t.left\n",
    "                    else:\n",
    "                        n = t\n",
    "                        while n.right.right:\n",
    "                            n = n.right\n",
    "                        t = n.right\n",
    "                        n.right = t.left\n",
    "                        node.val = t.val\n",
    "                    return node\n",
    "                        \n",
    "        self.root = delitem_rec(self.root)\n",
    "        self.size -= 1\n",
    "        \n",
    "    def pprint(self, width=64):\n",
    "        \"\"\"Attempts to pretty-print this tree's contents.\"\"\"\n",
    "        height = self.height()\n",
    "        nodes  = [(self.root, 0)]\n",
    "        prev_level = 0\n",
    "        repr_str = ''\n",
    "        while nodes:\n",
    "            n,level = nodes.pop(0)\n",
    "            if prev_level != level:\n",
    "                prev_level = level\n",
    "                repr_str += '\\n'\n",
    "            if not n:\n",
    "                if level < height-1:\n",
    "                    nodes.extend([(None, level+1), (None, level+1)])\n",
    "                repr_str += '{val:^{width}}'.format(val='-', width=width//2**level)\n",
    "            elif n:\n",
    "                if n.left or level < height-1:\n",
    "                    nodes.append((n.left, level+1))\n",
    "                if n.right or level < height-1:\n",
    "                    nodes.append((n.right, level+1))\n",
    "                repr_str += '{val:^{width}}'.format(val=n.val, width=width//2**level)\n",
    "        print(repr_str)\n",
    "    \n",
    "    def height(self):\n",
    "        \"\"\"Returns the height of the longest branch of the tree.\"\"\"\n",
    "        def height_rec(t):\n",
    "            if not t:\n",
    "                return 0\n",
    "            else:\n",
    "                return max(1+height_rec(t.left), 1+height_rec(t.right))\n",
    "        return height_rec(self.root)"
   ]
  },
  {
   "cell_type": "code",
   "execution_count": null,
   "metadata": {
    "collapsed": false
   },
   "outputs": [],
   "source": [
    "t = BSTree()\n",
    "for x in range(6):\n",
    "    t.add(x)\n",
    "t.pprint()"
   ]
  },
  {
   "cell_type": "code",
   "execution_count": null,
   "metadata": {
    "collapsed": false
   },
   "outputs": [],
   "source": [
    "import sys\n",
    "sys.setrecursionlimit(100)\n",
    "\n",
    "t = BSTree()\n",
    "for x in range(100):\n",
    "    t.add(x)"
   ]
  },
  {
   "cell_type": "markdown",
   "metadata": {},
   "source": [
    "## 2. \"Balanced\" binary trees\n",
    "\n",
    "Balance factor: height disparity of no more than 1.\n",
    "\n",
    "You can change balance factor by 2 b/c you're pushing 1 down and lifting 1 up."
   ]
  },
  {
   "cell_type": "markdown",
   "metadata": {},
   "source": [
    "## 3. Essential mechanic: rotation"
   ]
  },
  {
   "cell_type": "code",
   "execution_count": 2,
   "metadata": {
    "collapsed": false
   },
   "outputs": [],
   "source": [
    "class AVLTree(BSTree):\n",
    "    class Node:\n",
    "        def __init__(self, val, left=None, right=None):\n",
    "            self.val = val\n",
    "            self.left = left\n",
    "            self.right = right\n",
    "\n",
    "        def rotate_right(self):\n",
    "            n = self.left\n",
    "            self.val, n.val = n.val, self.val\n",
    "            self.left, self.right, n.left, n.right = n.left, n, n.right, self.right\n",
    "            \n",
    "    def add(self, val):\n",
    "        assert(val not in self)\n",
    "        def add_rec(node):\n",
    "            if not node:\n",
    "                return AVLTree.Node(val)\n",
    "            elif val < node.val:\n",
    "                node.left = add_rec(node.left)\n",
    "                return node\n",
    "            else:\n",
    "                node.right = add_rec(node.right)\n",
    "                return node\n",
    "        self.root = add_rec(self.root)\n",
    "        self.size += 1"
   ]
  },
  {
   "cell_type": "code",
   "execution_count": null,
   "metadata": {
    "collapsed": false
   },
   "outputs": [],
   "source": [
    "t = AVLTree()\n",
    "for x in range(6, 0, -1):\n",
    "    t.add(x)\n",
    "t.pprint()"
   ]
  },
  {
   "cell_type": "code",
   "execution_count": null,
   "metadata": {
    "collapsed": false
   },
   "outputs": [],
   "source": [
    "t.root.rotate_right()\n",
    "t.pprint()"
   ]
  },
  {
   "cell_type": "code",
   "execution_count": null,
   "metadata": {
    "collapsed": false
   },
   "outputs": [],
   "source": [
    "t.root.rotate_right()\n",
    "t.pprint()"
   ]
  },
  {
   "cell_type": "code",
   "execution_count": null,
   "metadata": {
    "collapsed": false
   },
   "outputs": [],
   "source": [
    "t.root.left.rotate_right()\n",
    "t.pprint()"
   ]
  },
  {
   "cell_type": "code",
   "execution_count": 3,
   "metadata": {
    "collapsed": false
   },
   "outputs": [],
   "source": [
    "class AVLTree(BSTree):\n",
    "    class Node:\n",
    "        def __init__(self, val, left=None, right=None):\n",
    "            self.val = val\n",
    "            self.left = left\n",
    "            self.right = right\n",
    "\n",
    "        def rotate_right(self):\n",
    "            n = self.left\n",
    "            self.val, n.val = n.val, self.val\n",
    "            self.left, n.left, self.right, n.right = n.left, n.right, n, self.right\n",
    "        \n",
    "        @staticmethod\n",
    "        def height(n):\n",
    "            if not n:\n",
    "                return 0\n",
    "            else:\n",
    "                return max(1+AVLTree.Node.height(n.left), 1+AVLTree.Node.height(n.right))\n",
    "                                    \n",
    "    def add(self, val):\n",
    "        assert(val not in self)\n",
    "        def add_rec(node):\n",
    "            if not node:\n",
    "                return AVLTree.Node(val)\n",
    "            elif val < node.val:\n",
    "                node.left = add_rec(node.left)\n",
    "            else:\n",
    "                node.right = add_rec(node.right)    \n",
    "            # detect and fix imbalance\n",
    "            if AVLTree.Node.height(node.left) > AVLTree.Node.height(node.right) > 1:\n",
    "                node.rotate.right()\n",
    "            return node\n",
    "        \n",
    "        self.root = add_rec(self.root)\n",
    "        self.size += 1"
   ]
  },
  {
   "cell_type": "code",
   "execution_count": 24,
   "metadata": {
    "collapsed": true
   },
   "outputs": [],
   "source": [
    "val = 50\n",
    "t = AVLTree()"
   ]
  },
  {
   "cell_type": "code",
   "execution_count": 29,
   "metadata": {
    "collapsed": false
   },
   "outputs": [
    {
     "name": "stdout",
     "output_type": "stream",
     "text": [
      "                               50                               \n",
      "               49                              -                \n",
      "       48              -               -               -        \n",
      "   47      -       -       -       -       -       -       -    \n",
      " 46  -   -   -   -   -   -   -   -   -   -   -   -   -   -   -  \n"
     ]
    }
   ],
   "source": [
    "# (evaluate multiple times with ctrl-enter)\n",
    "t.add(val)\n",
    "val -= 1\n",
    "t.pprint()"
   ]
  },
  {
   "cell_type": "code",
   "execution_count": null,
   "metadata": {
    "collapsed": true
   },
   "outputs": [],
   "source": [
    "val = 0\n",
    "t = AVLTree()"
   ]
  },
  {
   "cell_type": "code",
   "execution_count": null,
   "metadata": {
    "collapsed": false
   },
   "outputs": [],
   "source": [
    "# (evaluate multiple times with ctrl-enter)\n",
    "t.add(val)\n",
    "val += 1\n",
    "t.pprint()"
   ]
  },
  {
   "cell_type": "markdown",
   "metadata": {},
   "source": [
    "## 4. \"Out-of-balance\" scenarios & rotation recipes"
   ]
  },
  {
   "cell_type": "code",
   "execution_count": 19,
   "metadata": {
    "collapsed": false
   },
   "outputs": [
    {
     "name": "stdout",
     "output_type": "stream",
     "text": [
      "                               3                                \n",
      "               2                               -                \n",
      "       1               -               -               -        \n"
     ]
    }
   ],
   "source": [
    "# \"left-left\" scenario\n",
    "t = BSTree()\n",
    "for x in [3, 2, 1]:\n",
    "    t.add(x)\n",
    "t.pprint()"
   ]
  },
  {
   "cell_type": "code",
   "execution_count": 20,
   "metadata": {
    "collapsed": false
   },
   "outputs": [
    {
     "name": "stdout",
     "output_type": "stream",
     "text": [
      "                               3                                \n",
      "               1                               -                \n",
      "       -               2               -               -        \n"
     ]
    }
   ],
   "source": [
    "# \"left-right\" scenario\n",
    "t = BSTree()\n",
    "for x in [3, 1, 2]:\n",
    "    t.add(x)\n",
    "t.pprint()"
   ]
  },
  {
   "cell_type": "code",
   "execution_count": 21,
   "metadata": {
    "collapsed": false
   },
   "outputs": [
    {
     "name": "stdout",
     "output_type": "stream",
     "text": [
      "                               1                                \n",
      "               -                               2                \n",
      "       -               -               -               3        \n"
     ]
    }
   ],
   "source": [
    "# \"right-right\" scenario\n",
    "t = BSTree()\n",
    "for x in [1, 2, 3]:\n",
    "    t.add(x)\n",
    "t.pprint()"
   ]
  },
  {
   "cell_type": "code",
   "execution_count": 22,
   "metadata": {
    "collapsed": false
   },
   "outputs": [
    {
     "name": "stdout",
     "output_type": "stream",
     "text": [
      "                               1                                \n",
      "               -                               3                \n",
      "       -               -               2               -        \n"
     ]
    }
   ],
   "source": [
    "# \"right-left\" scenario\n",
    "t = BSTree()\n",
    "for x in [1, 3, 2]:\n",
    "    t.add(x)\n",
    "t.pprint()"
   ]
  },
  {
   "cell_type": "markdown",
   "metadata": {},
   "source": [
    "## 5. Generalized AVL rebalancing (insertion)"
   ]
  },
  {
   "cell_type": "code",
   "execution_count": 4,
   "metadata": {
    "collapsed": true
   },
   "outputs": [],
   "source": [
    "class AVLTree(BSTree):\n",
    "    class Node:\n",
    "        def __init__(self, val, left=None, right=None):\n",
    "            self.val = val\n",
    "            self.left = left\n",
    "            self.right = right\n",
    "\n",
    "        def rotate_right(self):\n",
    "            n = self.left\n",
    "            self.val, n.val = n.val, self.val\n",
    "            self.left, n.left, self.right, n.right = n.left, n.right, n, self.right\n",
    "            \n",
    "        def rotate_left(self):\n",
    "            n = self.right\n",
    "            self.val, n.val = n.val, self.val\n",
    "            self.left, n.left, self.right, n.right = self.right, n, n.right, n.left\n",
    "        \n",
    "        @staticmethod\n",
    "        def height(n):\n",
    "            if not n:\n",
    "                return 0\n",
    "            else:\n",
    "                return max(1+AVLTree.Node.height(n.left), 1+AVLTree.Node.height(n.right))\n",
    "    \n",
    "    @staticmethod\n",
    "    def rebalance(t):\n",
    "        if AVLTree.Node.height(t.left) > AVLTree.Node.height(t.right):\n",
    "            if AVLTree.Node.height(t.left.left) >= AVLTree.Node.height(t.left.right):\n",
    "                # left-left\n",
    "                print('left-left imbalance detected')\n",
    "                t.rotate_right()\n",
    "            else:\n",
    "                # left-right\n",
    "                print('left-right imbalance detected')\n",
    "                t.left.rotate_left()\n",
    "                t.rotate_right()\n",
    "        else:\n",
    "            # right branch imbalance tests needed\n",
    "            if AVLTree.Node.height(t.right.right) >= AVLTree.Node.height(t.right.left):\n",
    "                # right-right\n",
    "                print('right-right imbalance detected')\n",
    "                t.rotate_left()\n",
    "            else:\n",
    "                # left-right\n",
    "                print('right-left imbalance detected')\n",
    "                t.right.rotate_right()\n",
    "                t.rotate_left()\n",
    "            \n",
    "    def add(self, val):\n",
    "        assert(val not in self)\n",
    "        def add_rec(node):\n",
    "            if not node:\n",
    "                return AVLTree.Node(val)\n",
    "            elif val < node.val:\n",
    "                node.left = add_rec(node.left)\n",
    "            else:\n",
    "                node.right = add_rec(node.right)\n",
    "            if abs(AVLTree.Node.height(node.left) - AVLTree.Node.height(node.right)) > 1: # detect imbalance\n",
    "                AVLTree.rebalance(node)\n",
    "            return node\n",
    "        self.root = add_rec(self.root)\n",
    "        self.size += 1"
   ]
  },
  {
   "cell_type": "code",
   "execution_count": 46,
   "metadata": {
    "collapsed": false
   },
   "outputs": [
    {
     "name": "stdout",
     "output_type": "stream",
     "text": [
      "left-left imbalance detected\n",
      "                               5                                \n",
      "               1                               10               \n"
     ]
    }
   ],
   "source": [
    "t = AVLTree()\n",
    "for x in [10, 5, 1]:\n",
    "    t.add(x)\n",
    "t.pprint()"
   ]
  },
  {
   "cell_type": "code",
   "execution_count": 48,
   "metadata": {
    "collapsed": false
   },
   "outputs": [
    {
     "name": "stdout",
     "output_type": "stream",
     "text": [
      "left-left imbalance detected\n",
      "right-right imbalance detected\n"
     ]
    },
    {
     "ename": "RecursionError",
     "evalue": "maximum recursion depth exceeded",
     "output_type": "error",
     "traceback": [
      "\u001b[0;31m---------------------------------------------------------------------------\u001b[0m",
      "\u001b[0;31mRecursionError\u001b[0m                            Traceback (most recent call last)",
      "\u001b[0;32m<ipython-input-48-aead71ccfd0b>\u001b[0m in \u001b[0;36m<module>\u001b[0;34m()\u001b[0m\n\u001b[1;32m      2\u001b[0m \u001b[0mt\u001b[0m \u001b[0;34m=\u001b[0m \u001b[0mAVLTree\u001b[0m\u001b[0;34m(\u001b[0m\u001b[0;34m)\u001b[0m\u001b[0;34m\u001b[0m\u001b[0m\n\u001b[1;32m      3\u001b[0m \u001b[0;32mfor\u001b[0m \u001b[0mx\u001b[0m \u001b[0;32min\u001b[0m \u001b[0;34m[\u001b[0m\u001b[0;36m10\u001b[0m\u001b[0;34m,\u001b[0m \u001b[0;36m5\u001b[0m\u001b[0;34m,\u001b[0m \u001b[0;36m1\u001b[0m\u001b[0;34m,\u001b[0m \u001b[0;36m2\u001b[0m\u001b[0;34m,\u001b[0m \u001b[0;36m3\u001b[0m\u001b[0;34m]\u001b[0m\u001b[0;34m:\u001b[0m\u001b[0;34m\u001b[0m\u001b[0m\n\u001b[0;32m----> 4\u001b[0;31m     \u001b[0mt\u001b[0m\u001b[0;34m.\u001b[0m\u001b[0madd\u001b[0m\u001b[0;34m(\u001b[0m\u001b[0mx\u001b[0m\u001b[0;34m)\u001b[0m\u001b[0;34m\u001b[0m\u001b[0m\n\u001b[0m\u001b[1;32m      5\u001b[0m \u001b[0mt\u001b[0m\u001b[0;34m.\u001b[0m\u001b[0mpprint\u001b[0m\u001b[0;34m(\u001b[0m\u001b[0;34m)\u001b[0m\u001b[0;34m\u001b[0m\u001b[0m\n",
      "\u001b[0;32m<ipython-input-45-683f650f0700>\u001b[0m in \u001b[0;36madd\u001b[0;34m(self, val)\u001b[0m\n\u001b[1;32m     59\u001b[0m                 \u001b[0mAVLTree\u001b[0m\u001b[0;34m.\u001b[0m\u001b[0mrebalance\u001b[0m\u001b[0;34m(\u001b[0m\u001b[0mnode\u001b[0m\u001b[0;34m)\u001b[0m\u001b[0;34m\u001b[0m\u001b[0m\n\u001b[1;32m     60\u001b[0m             \u001b[0;32mreturn\u001b[0m \u001b[0mnode\u001b[0m\u001b[0;34m\u001b[0m\u001b[0m\n\u001b[0;32m---> 61\u001b[0;31m         \u001b[0mself\u001b[0m\u001b[0;34m.\u001b[0m\u001b[0mroot\u001b[0m \u001b[0;34m=\u001b[0m \u001b[0madd_rec\u001b[0m\u001b[0;34m(\u001b[0m\u001b[0mself\u001b[0m\u001b[0;34m.\u001b[0m\u001b[0mroot\u001b[0m\u001b[0;34m)\u001b[0m\u001b[0;34m\u001b[0m\u001b[0m\n\u001b[0m\u001b[1;32m     62\u001b[0m         \u001b[0mself\u001b[0m\u001b[0;34m.\u001b[0m\u001b[0msize\u001b[0m \u001b[0;34m+=\u001b[0m \u001b[0;36m1\u001b[0m\u001b[0;34m\u001b[0m\u001b[0m\n",
      "\u001b[0;32m<ipython-input-45-683f650f0700>\u001b[0m in \u001b[0;36madd_rec\u001b[0;34m(node)\u001b[0m\n\u001b[1;32m     56\u001b[0m             \u001b[0;32melse\u001b[0m\u001b[0;34m:\u001b[0m\u001b[0;34m\u001b[0m\u001b[0m\n\u001b[1;32m     57\u001b[0m                 \u001b[0mnode\u001b[0m\u001b[0;34m.\u001b[0m\u001b[0mright\u001b[0m \u001b[0;34m=\u001b[0m \u001b[0madd_rec\u001b[0m\u001b[0;34m(\u001b[0m\u001b[0mnode\u001b[0m\u001b[0;34m.\u001b[0m\u001b[0mright\u001b[0m\u001b[0;34m)\u001b[0m\u001b[0;34m\u001b[0m\u001b[0m\n\u001b[0;32m---> 58\u001b[0;31m             \u001b[0;32mif\u001b[0m \u001b[0mabs\u001b[0m\u001b[0;34m(\u001b[0m\u001b[0mAVLTree\u001b[0m\u001b[0;34m.\u001b[0m\u001b[0mNode\u001b[0m\u001b[0;34m.\u001b[0m\u001b[0mheight\u001b[0m\u001b[0;34m(\u001b[0m\u001b[0mnode\u001b[0m\u001b[0;34m.\u001b[0m\u001b[0mleft\u001b[0m\u001b[0;34m)\u001b[0m \u001b[0;34m-\u001b[0m \u001b[0mAVLTree\u001b[0m\u001b[0;34m.\u001b[0m\u001b[0mNode\u001b[0m\u001b[0;34m.\u001b[0m\u001b[0mheight\u001b[0m\u001b[0;34m(\u001b[0m\u001b[0mnode\u001b[0m\u001b[0;34m.\u001b[0m\u001b[0mright\u001b[0m\u001b[0;34m)\u001b[0m\u001b[0;34m)\u001b[0m \u001b[0;34m>\u001b[0m \u001b[0;36m1\u001b[0m\u001b[0;34m:\u001b[0m \u001b[0;31m# detect imbalance\u001b[0m\u001b[0;34m\u001b[0m\u001b[0m\n\u001b[0m\u001b[1;32m     59\u001b[0m                 \u001b[0mAVLTree\u001b[0m\u001b[0;34m.\u001b[0m\u001b[0mrebalance\u001b[0m\u001b[0;34m(\u001b[0m\u001b[0mnode\u001b[0m\u001b[0;34m)\u001b[0m\u001b[0;34m\u001b[0m\u001b[0m\n\u001b[1;32m     60\u001b[0m             \u001b[0;32mreturn\u001b[0m \u001b[0mnode\u001b[0m\u001b[0;34m\u001b[0m\u001b[0m\n",
      "\u001b[0;32m<ipython-input-45-683f650f0700>\u001b[0m in \u001b[0;36mheight\u001b[0;34m(n)\u001b[0m\n\u001b[1;32m     21\u001b[0m                 \u001b[0;32mreturn\u001b[0m \u001b[0;36m0\u001b[0m\u001b[0;34m\u001b[0m\u001b[0m\n\u001b[1;32m     22\u001b[0m             \u001b[0;32melse\u001b[0m\u001b[0;34m:\u001b[0m\u001b[0;34m\u001b[0m\u001b[0m\n\u001b[0;32m---> 23\u001b[0;31m                 \u001b[0;32mreturn\u001b[0m \u001b[0mmax\u001b[0m\u001b[0;34m(\u001b[0m\u001b[0;36m1\u001b[0m\u001b[0;34m+\u001b[0m\u001b[0mAVLTree\u001b[0m\u001b[0;34m.\u001b[0m\u001b[0mNode\u001b[0m\u001b[0;34m.\u001b[0m\u001b[0mheight\u001b[0m\u001b[0;34m(\u001b[0m\u001b[0mn\u001b[0m\u001b[0;34m.\u001b[0m\u001b[0mleft\u001b[0m\u001b[0;34m)\u001b[0m\u001b[0;34m,\u001b[0m \u001b[0;36m1\u001b[0m\u001b[0;34m+\u001b[0m\u001b[0mAVLTree\u001b[0m\u001b[0;34m.\u001b[0m\u001b[0mNode\u001b[0m\u001b[0;34m.\u001b[0m\u001b[0mheight\u001b[0m\u001b[0;34m(\u001b[0m\u001b[0mn\u001b[0m\u001b[0;34m.\u001b[0m\u001b[0mright\u001b[0m\u001b[0;34m)\u001b[0m\u001b[0;34m)\u001b[0m\u001b[0;34m\u001b[0m\u001b[0m\n\u001b[0m\u001b[1;32m     24\u001b[0m \u001b[0;34m\u001b[0m\u001b[0m\n\u001b[1;32m     25\u001b[0m     \u001b[0;34m@\u001b[0m\u001b[0mstaticmethod\u001b[0m\u001b[0;34m\u001b[0m\u001b[0m\n",
      "... last 1 frames repeated, from the frame below ...\n",
      "\u001b[0;32m<ipython-input-45-683f650f0700>\u001b[0m in \u001b[0;36mheight\u001b[0;34m(n)\u001b[0m\n\u001b[1;32m     21\u001b[0m                 \u001b[0;32mreturn\u001b[0m \u001b[0;36m0\u001b[0m\u001b[0;34m\u001b[0m\u001b[0m\n\u001b[1;32m     22\u001b[0m             \u001b[0;32melse\u001b[0m\u001b[0;34m:\u001b[0m\u001b[0;34m\u001b[0m\u001b[0m\n\u001b[0;32m---> 23\u001b[0;31m                 \u001b[0;32mreturn\u001b[0m \u001b[0mmax\u001b[0m\u001b[0;34m(\u001b[0m\u001b[0;36m1\u001b[0m\u001b[0;34m+\u001b[0m\u001b[0mAVLTree\u001b[0m\u001b[0;34m.\u001b[0m\u001b[0mNode\u001b[0m\u001b[0;34m.\u001b[0m\u001b[0mheight\u001b[0m\u001b[0;34m(\u001b[0m\u001b[0mn\u001b[0m\u001b[0;34m.\u001b[0m\u001b[0mleft\u001b[0m\u001b[0;34m)\u001b[0m\u001b[0;34m,\u001b[0m \u001b[0;36m1\u001b[0m\u001b[0;34m+\u001b[0m\u001b[0mAVLTree\u001b[0m\u001b[0;34m.\u001b[0m\u001b[0mNode\u001b[0m\u001b[0;34m.\u001b[0m\u001b[0mheight\u001b[0m\u001b[0;34m(\u001b[0m\u001b[0mn\u001b[0m\u001b[0;34m.\u001b[0m\u001b[0mright\u001b[0m\u001b[0;34m)\u001b[0m\u001b[0;34m)\u001b[0m\u001b[0;34m\u001b[0m\u001b[0m\n\u001b[0m\u001b[1;32m     24\u001b[0m \u001b[0;34m\u001b[0m\u001b[0m\n\u001b[1;32m     25\u001b[0m     \u001b[0;34m@\u001b[0m\u001b[0mstaticmethod\u001b[0m\u001b[0;34m\u001b[0m\u001b[0m\n",
      "\u001b[0;31mRecursionError\u001b[0m: maximum recursion depth exceeded"
     ]
    }
   ],
   "source": [
    "# broken!\n",
    "t = AVLTree()\n",
    "for x in [10, 5, 1, 2, 3]:\n",
    "    t.add(x)\n",
    "t.pprint()"
   ]
  },
  {
   "cell_type": "markdown",
   "metadata": {},
   "source": [
    "## 5. Rebalancing on removal"
   ]
  },
  {
   "cell_type": "code",
   "execution_count": 49,
   "metadata": {
    "collapsed": true
   },
   "outputs": [],
   "source": [
    "class AVLTree(BSTree):\n",
    "    class Node:\n",
    "        def __init__(self, val, left=None, right=None):\n",
    "            self.val = val\n",
    "            self.left = left\n",
    "            self.right = right\n",
    "\n",
    "        def rotate_right(self):\n",
    "            n = self.left\n",
    "            self.val, n.val = n.val, self.val\n",
    "            self.left, n.left, self.right, n.right = n.left, n.right, n, self.right\n",
    "        \n",
    "        def rotate_left(self):\n",
    "            pass\n",
    "            \n",
    "        @staticmethod\n",
    "        def height(n):\n",
    "            if not n:\n",
    "                return 0\n",
    "            else:\n",
    "                return max(1+AVLTree.Node.height(n.left), 1+AVLTree.Node.height(n.right))\n",
    "    \n",
    "    @staticmethod\n",
    "    def rebalance(t):\n",
    "        if AVLTree.Node.height(t.left) > AVLTree.Node.height(t.right):\n",
    "            if AVLTree.Node.height(t.left.left) >= AVLTree.Node.height(t.left.right):\n",
    "                # left-left\n",
    "                print('left-left imbalance detected')\n",
    "                t.rotate_right()\n",
    "            else:\n",
    "                # left-right\n",
    "                print('left-right imbalance detected')\n",
    "                t.left.rotate_left()\n",
    "                t.rotate_right()\n",
    "        else:\n",
    "            pass\n",
    "            \n",
    "    def add(self, val):\n",
    "        assert(val not in self)\n",
    "        def add_rec(node):\n",
    "            if not node:\n",
    "                return AVLTree.Node(val)\n",
    "            elif val < node.val:\n",
    "                node.left = add_rec(node.left)\n",
    "            else:\n",
    "                node.right = add_rec(node.right)\n",
    "            if abs(AVLTree.Node.height(node.left) - AVLTree.Node.height(node.right)) >= 2:\n",
    "                AVLTree.rebalance(node)\n",
    "            return node\n",
    "        self.root = add_rec(self.root)\n",
    "        self.size += 1\n",
    "        \n",
    "    def __delitem__(self, val):\n",
    "        assert(val in self)\n",
    "        def delitem_rec(node):\n",
    "            if val < node.val:\n",
    "                node.left = delitem_rec(node.left)\n",
    "            elif val > node.val:\n",
    "                node.right = delitem_rec(node.right)\n",
    "            else:\n",
    "                if not node.left and not node.right:\n",
    "                    return None\n",
    "                elif node.left and not node.right:\n",
    "                    return node.left\n",
    "                elif node.right and not node.left:\n",
    "                    return node.right\n",
    "                else:\n",
    "                    # remove the largest value from the left subtree (t) as a replacement\n",
    "                    # for the root value of this tree\n",
    "                    t = node.left\n",
    "                    if not t.right:\n",
    "                        node.val = t.val\n",
    "                        node.left = t.left                        \n",
    "                    else:\n",
    "                        n = t\n",
    "                        while n.right.right:\n",
    "                            n = n.right\n",
    "                        t = n.right\n",
    "                        n.right = t.left\n",
    "                        node.val = t.val\n",
    "            # detect and fix imbalance\n",
    "            if abs(AVLTree.Node.height(node.left) - AVLTree.Node.height(node.right)) > 1:\n",
    "                AVLTree.rebalance(node)\n",
    "            return node\n",
    "                        \n",
    "        self.root = delitem_rec(self.root)\n",
    "        self.size -= 1"
   ]
  },
  {
   "cell_type": "code",
   "execution_count": 55,
   "metadata": {
    "collapsed": false
   },
   "outputs": [
    {
     "name": "stdout",
     "output_type": "stream",
     "text": [
      "                               10                               \n",
      "               5                               15               \n",
      "       2               -               -               -        \n"
     ]
    }
   ],
   "source": [
    "t = AVLTree()\n",
    "for x in [10, 5, 15, 2]:\n",
    "    t.add(x)\n",
    "t.pprint()"
   ]
  },
  {
   "cell_type": "code",
   "execution_count": 56,
   "metadata": {
    "collapsed": false
   },
   "outputs": [
    {
     "name": "stdout",
     "output_type": "stream",
     "text": [
      "left-left imbalance detected\n",
      "                               5                                \n",
      "               2                               10               \n"
     ]
    }
   ],
   "source": [
    "del t[15]\n",
    "t.pprint()"
   ]
  },
  {
   "cell_type": "code",
   "execution_count": 57,
   "metadata": {
    "collapsed": false
   },
   "outputs": [
    {
     "name": "stdout",
     "output_type": "stream",
     "text": [
      "left-left imbalance detected\n",
      "left-left imbalance detected\n",
      "left-left imbalance detected\n",
      "left-left imbalance detected\n",
      "left-left imbalance detected\n",
      "left-left imbalance detected\n",
      "left-left imbalance detected\n",
      "left-left imbalance detected\n",
      "left-left imbalance detected\n",
      "left-left imbalance detected\n",
      "left-left imbalance detected\n",
      "left-left imbalance detected\n",
      "left-left imbalance detected\n",
      "left-left imbalance detected\n",
      "left-left imbalance detected\n",
      "left-left imbalance detected\n",
      "left-left imbalance detected\n",
      "left-left imbalance detected\n",
      "left-left imbalance detected\n",
      "left-left imbalance detected\n",
      "left-left imbalance detected\n",
      "left-left imbalance detected\n",
      "left-left imbalance detected\n",
      "left-left imbalance detected\n",
      "left-left imbalance detected\n",
      "left-left imbalance detected\n",
      "                               16                               \n",
      "               8                               24               \n",
      "       4               12              20              28       \n",
      "   2       6       10      14      18      22      26      30   \n",
      " 1   3   5   7   9   11  13  15  17  19  21  23  25  27  29  31 \n"
     ]
    }
   ],
   "source": [
    "t = AVLTree()\n",
    "for x in range(31, 0, -1):\n",
    "    t.add(x)\n",
    "t.pprint()"
   ]
  },
  {
   "cell_type": "code",
   "execution_count": 58,
   "metadata": {
    "collapsed": false
   },
   "outputs": [
    {
     "name": "stdout",
     "output_type": "stream",
     "text": [
      "                               16                               \n",
      "               8                               24               \n",
      "       4               12              20              28       \n",
      "   2       6       10      14      18      22      26      30   \n",
      " 1   3   5   7   9   11  13  -   17  19  21  23  25  27  29  31 \n"
     ]
    }
   ],
   "source": [
    "del t[15]\n",
    "t.pprint()"
   ]
  },
  {
   "cell_type": "code",
   "execution_count": 59,
   "metadata": {
    "collapsed": false
   },
   "outputs": [
    {
     "name": "stdout",
     "output_type": "stream",
     "text": [
      "                               16                               \n",
      "               8                               24               \n",
      "       4               12              20              28       \n",
      "   2       6       10      13      18      22      26      30   \n",
      " 1   3   5   7   9   11  -   -   17  19  21  23  25  27  29  31 \n"
     ]
    }
   ],
   "source": [
    "del t[14]\n",
    "t.pprint()"
   ]
  },
  {
   "cell_type": "code",
   "execution_count": 60,
   "metadata": {
    "collapsed": false
   },
   "outputs": [
    {
     "name": "stdout",
     "output_type": "stream",
     "text": [
      "                               13                               \n",
      "               8                               24               \n",
      "       4               12              20              28       \n",
      "   2       6       10      -       18      22      26      30   \n",
      " 1   3   5   7   9   11  -   -   17  19  21  23  25  27  29  31 \n"
     ]
    }
   ],
   "source": [
    "del t[16]\n",
    "t.pprint()"
   ]
  },
  {
   "cell_type": "markdown",
   "metadata": {},
   "source": [
    "## Worst Case Runtime Analysis\n",
    "AVL Tree\n",
    "1. Insertion - O(log N)\n",
    "2. Deletion - O(log N)\n",
    "3. Searching - O(log N)\n",
    "\n",
    "BS Tree\n",
    "1. Insertion - O(N)\n",
    "2. Deletion - O(N)\n",
    "3. Searching - O(N)"
   ]
  }
 ],
 "metadata": {
  "kernelspec": {
   "display_name": "Python 3",
   "language": "python",
   "name": "python3"
  },
  "language_info": {
   "codemirror_mode": {
    "name": "ipython",
    "version": 3
   },
   "file_extension": ".py",
   "mimetype": "text/x-python",
   "name": "python",
   "nbconvert_exporter": "python",
   "pygments_lexer": "ipython3",
   "version": "3.6.0"
  }
 },
 "nbformat": 4,
 "nbformat_minor": 0
}
