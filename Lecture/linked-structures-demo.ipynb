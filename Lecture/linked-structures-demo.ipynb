{
 "cells": [
  {
   "cell_type": "markdown",
   "metadata": {},
   "source": [
    "# Linked Structures\n",
    "\n",
    "## Agenda\n",
    "\n",
    "1. Motives\n",
    "2. Objectives\n",
    "3. Mechanisms"
   ]
  },
  {
   "cell_type": "markdown",
   "metadata": {},
   "source": [
    "## 1. Motives"
   ]
  },
  {
   "cell_type": "code",
   "execution_count": 3,
   "metadata": {
    "collapsed": false
   },
   "outputs": [
    {
     "data": {
      "image/png": "[encoded data removed]",
      "text/plain": [
       "<matplotlib.figure.Figure at 0x116eab3c8>"
      ]
     },
     "metadata": {},
     "output_type": "display_data"
    },
    {
     "data": {
      "text/plain": [
       "' linear time to insert and immediately delete the first element\\n    Linked List is better\\n'"
      ]
     },
     "execution_count": 3,
     "metadata": {},
     "output_type": "execute_result"
    }
   ],
   "source": [
    "%matplotlib inline\n",
    "import matplotlib.pyplot as plt\n",
    "import numpy as np\n",
    "from timeit import timeit\n",
    "\n",
    "def time_array_front_insert_delete(n):\n",
    "    return timeit('lst.insert(0, None) ; del lst[0]',\n",
    "                  'lst = list(range({}))'.format(n),\n",
    "                  number=1000)\n",
    "\n",
    "ns = np.linspace(100, 10000, 50)\n",
    "plt.plot(ns, [time_array_front_insert_delete(int(n)) for n in ns], 'ro')\n",
    "plt.show()\n",
    "''' linear time to insert and immediately delete the first element\n",
    "    Linked List is better\n",
    "'''"
   ]
  },
  {
   "cell_type": "code",
   "execution_count": null,
   "metadata": {
    "collapsed": true
   },
   "outputs": [],
   "source": [
    "# consider:\n",
    "\n",
    "def concatenate(arr1, arr2):\n",
    "    \"\"\"Concatenates the contents of arr1 and arr2 as efficiently (time-wise)\n",
    "    as possible, so that the resulting structure can be used to index all\n",
    "    combined elements (arr1's followed by arr2's).\"\"\"\n",
    "\n",
    "    # option 1:\n",
    "    for x in arr2:\n",
    "        arr1.append(x)\n",
    "    return arr19\n",
    "    # O(n)\n",
    "\n",
    "    # option 2:\n",
    "    arr1.extend(arr2)\n",
    "    return arr1\n",
    "    # O(n)\n",
    "\n",
    "    # option 3:\n",
    "    return arr1 + arr2\n",
    "    # O(n+m)\n",
    "    '''\n",
    "    Arrays use index base memory so the second array must be physically \n",
    "    next to it to access the second array.\n",
    "    '''"
   ]
  },
  {
   "cell_type": "markdown",
   "metadata": {},
   "source": [
    "## 2. Objectives\n",
    "\n",
    "We need a new data storage mechanism for constructing data structures that:\n",
    "\n",
    "- does not require monolithic, contiguous memory allocation,\n",
    "- allows individual elements to be flexibly and efficiently reorganized,\n",
    "- and preserves the ability to locate (e.g., via position) and iterate over elements"
   ]
  },
  {
   "cell_type": "markdown",
   "metadata": {},
   "source": [
    "## 3. Mechanisms"
   ]
  },
  {
   "cell_type": "markdown",
   "metadata": {},
   "source": [
    "### 3.1. Two-Element Lists"
   ]
  },
  {
   "cell_type": "code",
   "execution_count": 8,
   "metadata": {
    "collapsed": true
   },
   "outputs": [],
   "source": [
    "# data items\n",
    "i1 = 'lions'\n",
    "i2 = 'tigers'\n",
    "i3 = 'bears'\n",
    "i4 = 'oh, my'"
   ]
  },
  {
   "cell_type": "code",
   "execution_count": 9,
   "metadata": {
    "collapsed": false
   },
   "outputs": [
    {
     "data": {
      "text/plain": [
       "['lions', 'tigers', 'bears', 'oh, my']"
      ]
     },
     "execution_count": 9,
     "metadata": {},
     "output_type": "execute_result"
    }
   ],
   "source": [
    "[i1, i2, i3, i4]"
   ]
  },
  {
   "cell_type": "code",
   "execution_count": 10,
   "metadata": {
    "collapsed": true
   },
   "outputs": [],
   "source": [
    "# creating individual \"links\"\n",
    "link1 = [i1, None]\n",
    "link2 = [i2, None]\n",
    "link3 = [i3, None]\n",
    "link4 = [i4, None]\n",
    "#[data, reference]"
   ]
  },
  {
   "cell_type": "code",
   "execution_count": 11,
   "metadata": {
    "collapsed": false
   },
   "outputs": [
    {
     "name": "stdout",
     "output_type": "stream",
     "text": [
      "None\n"
     ]
    }
   ],
   "source": [
    "print(link1[1])"
   ]
  },
  {
   "cell_type": "code",
   "execution_count": 13,
   "metadata": {
    "collapsed": false
   },
   "outputs": [
    {
     "name": "stdout",
     "output_type": "stream",
     "text": [
      "['lions', ['tigers', ['bears', ['oh, my', None]]]]\n"
     ]
    }
   ],
   "source": [
    "# link-ing them together\n",
    "link1[1] = link2\n",
    "link2[1] = link3\n",
    "link3[1] = link4\n",
    "# reference = memory address"
   ]
  },
  {
   "cell_type": "code",
   "execution_count": 14,
   "metadata": {
    "collapsed": true
   },
   "outputs": [],
   "source": [
    "head = link1"
   ]
  },
  {
   "cell_type": "code",
   "execution_count": 15,
   "metadata": {
    "collapsed": false
   },
   "outputs": [
    {
     "data": {
      "text/plain": [
       "'lions'"
      ]
     },
     "execution_count": 15,
     "metadata": {},
     "output_type": "execute_result"
    }
   ],
   "source": [
    "head[0]"
   ]
  },
  {
   "cell_type": "code",
   "execution_count": 16,
   "metadata": {
    "collapsed": false
   },
   "outputs": [
    {
     "data": {
      "text/plain": [
       "'tigers'"
      ]
     },
     "execution_count": 16,
     "metadata": {},
     "output_type": "execute_result"
    }
   ],
   "source": [
    "head[1][0]"
   ]
  },
  {
   "cell_type": "code",
   "execution_count": 17,
   "metadata": {
    "collapsed": false
   },
   "outputs": [
    {
     "data": {
      "text/plain": [
       "'bears'"
      ]
     },
     "execution_count": 17,
     "metadata": {},
     "output_type": "execute_result"
    }
   ],
   "source": [
    "head[1][1][0]"
   ]
  },
  {
   "cell_type": "code",
   "execution_count": 18,
   "metadata": {
    "collapsed": false
   },
   "outputs": [
    {
     "data": {
      "text/plain": [
       "'oh, my'"
      ]
     },
     "execution_count": 18,
     "metadata": {},
     "output_type": "execute_result"
    }
   ],
   "source": [
    "head[1][1][1][0]"
   ]
  },
  {
   "cell_type": "code",
   "execution_count": null,
   "metadata": {
    "collapsed": true
   },
   "outputs": [],
   "source": [
    "# iteration"
   ]
  },
  {
   "cell_type": "code",
   "execution_count": 19,
   "metadata": {
    "collapsed": true
   },
   "outputs": [],
   "source": [
    "def list_iter(head):\n",
    "    yield head[0]\n",
    "    yield head[1][0]\n",
    "    yield head[1][1][0]\n",
    "    yield head[1][1][1][0]"
   ]
  },
  {
   "cell_type": "code",
   "execution_count": 20,
   "metadata": {
    "collapsed": false
   },
   "outputs": [
    {
     "name": "stdout",
     "output_type": "stream",
     "text": [
      "lions\n",
      "tigers\n",
      "bears\n",
      "oh, my\n"
     ]
    }
   ],
   "source": [
    "for x in list_iter(head):\n",
    "    print(x)"
   ]
  },
  {
   "cell_type": "code",
   "execution_count": 21,
   "metadata": {
    "collapsed": true
   },
   "outputs": [],
   "source": [
    "def list_iter(head):\n",
    "    node = head\n",
    "    while node: # or node is not None\n",
    "        yield node[0] # the value\n",
    "        node = node[1] # next link\n",
    "# None,0, (), and False are the same"
   ]
  },
  {
   "cell_type": "code",
   "execution_count": 26,
   "metadata": {
    "collapsed": false
   },
   "outputs": [
    {
     "name": "stdout",
     "output_type": "stream",
     "text": [
      "elephants\n",
      "walruses\n",
      "lions\n",
      "tigers\n",
      "bears\n",
      "oh, my\n"
     ]
    }
   ],
   "source": [
    "for x in list_iter(head):\n",
    "    print(x)"
   ]
  },
  {
   "cell_type": "code",
   "execution_count": 23,
   "metadata": {
    "collapsed": true
   },
   "outputs": [],
   "source": [
    "# prepending\n",
    "l0 = ['walruses', None]\n",
    "l0[1] = head\n",
    "head = l0"
   ]
  },
  {
   "cell_type": "code",
   "execution_count": 25,
   "metadata": {
    "collapsed": true
   },
   "outputs": [],
   "source": [
    "head = ['elephants', head]\n",
    "'''\n",
    "self.head = Link(val, self.head)\n",
    "ArrayList implementation was O(n)\n",
    "LinkedList implementation of adding a value is O(1)\n",
    "'''"
   ]
  },
  {
   "cell_type": "code",
   "execution_count": null,
   "metadata": {
    "collapsed": true
   },
   "outputs": [],
   "source": [
    "# insertion\n",
    "l0 = ['polar bears', head[1]] # reference after the first link\n",
    "head[1] = l0 # value after the first link"
   ]
  },
  {
   "cell_type": "markdown",
   "metadata": {},
   "source": [
    "### 3.2. \"Link\" objects"
   ]
  },
  {
   "cell_type": "code",
   "execution_count": null,
   "metadata": {
    "collapsed": true
   },
   "outputs": [],
   "source": [
    "class Link:\n",
    "    def __init__(self, val, next=None):\n",
    "        self.val = val\n",
    "        self.next = next"
   ]
  },
  {
   "cell_type": "code",
   "execution_count": null,
   "metadata": {
    "collapsed": true
   },
   "outputs": [],
   "source": [
    "# manually constructing a list\n",
    "l1 = Link(i1)\n",
    "l2 = Link(i2)\n",
    "l3 = Link(i3)\n",
    "l4 = Link(i4)"
   ]
  },
  {
   "cell_type": "code",
   "execution_count": null,
   "metadata": {
    "collapsed": true
   },
   "outputs": [],
   "source": [
    "l1.next = l2\n",
    "l2.next = l3\n",
    "l3.next - l4"
   ]
  },
  {
   "cell_type": "code",
   "execution_count": null,
   "metadata": {
    "collapsed": true
   },
   "outputs": [],
   "source": [
    "head.next.next.next.val"
   ]
  },
  {
   "cell_type": "code",
   "execution_count": null,
   "metadata": {
    "collapsed": true
   },
   "outputs": [],
   "source": [
    "# iteration\n",
    "def list_iter(head):\n",
    "    node = head\n",
    "    while node: # or node is not None\n",
    "        yield node.val # the value\n",
    "        node = node.next # next link"
   ]
  },
  {
   "cell_type": "code",
   "execution_count": null,
   "metadata": {
    "collapsed": true
   },
   "outputs": [],
   "source": [
    "for x in list_iiter(head):\n",
    "    print(x)"
   ]
  },
  {
   "cell_type": "code",
   "execution_count": null,
   "metadata": {
    "collapsed": true
   },
   "outputs": [],
   "source": [
    "# iteration based on a recursive pattern"
   ]
  },
  {
   "cell_type": "code",
   "execution_count": null,
   "metadata": {
    "collapsed": true
   },
   "outputs": [],
   "source": [
    "class LinkedList:\n",
    "    def __init__(self):\n",
    "        self.head = None\n",
    "        \n",
    "    def prepend(self, val):\n",
    "        self.head = Link(val, self.head)\n",
    "        \n",
    "    def __iter__(self):\n",
    "        cursor = self.head\n",
    "        while cursor:\n",
    "            yield cursor.val\n",
    "            cursor = cursor.next\n",
    "            \n",
    "    def __repr__(self):\n",
    "        return '[' + ', '.join(str(x) for x in self) + ']'"
   ]
  },
  {
   "cell_type": "code",
   "execution_count": null,
   "metadata": {
    "collapsed": true
   },
   "outputs": [],
   "source": [
    "ll = LinkedList()"
   ]
  },
  {
   "cell_type": "code",
   "execution_count": null,
   "metadata": {
    "collapsed": true
   },
   "outputs": [],
   "source": [
    "for x in range(10): O(n)\n",
    "    ll.preprend(x) # O(1) \n",
    "'''\n",
    "O(n) vs ArrayList is O(n^2)\n",
    "Picking a 2 link list is abitrary\n",
    "It can be 3 \n",
    "'''"
   ]
  },
  {
   "cell_type": "code",
   "execution_count": null,
   "metadata": {
    "collapsed": true
   },
   "outputs": [],
   "source": [
    "class BinaryLink:\n",
    "    def __init__(self, val, left=None, right=None):\n",
    "        self.val = val\n",
    "        self.left = left\n",
    "        self.right = right"
   ]
  },
  {
   "cell_type": "code",
   "execution_count": null,
   "metadata": {
    "collapsed": true
   },
   "outputs": [],
   "source": [
    "# manual construction of a \"tree\""
   ]
  },
  {
   "cell_type": "code",
   "execution_count": null,
   "metadata": {
    "collapsed": true
   },
   "outputs": [],
   "source": [
    "t = BinaryLink('hello',\n",
    "              BinaryLink('hola',\n",
    "                        BinaryLink('yo')), # left side\n",
    "              BinaryLink('hello there', # right side\n",
    "                        BinaryLink('sawasdee'),\n",
    "                        BinaryLink('greetings')))"
   ]
  },
  {
   "cell_type": "code",
   "execution_count": null,
   "metadata": {
    "collapsed": true
   },
   "outputs": [],
   "source": [
    "def tree_iter(root):\n",
    "    if root:\n",
    "        yield root.val\n",
    "        yield from tree_iter(root.left) # delegated generators\n",
    "        yield from tree_iter(root.right)"
   ]
  },
  {
   "cell_type": "code",
   "execution_count": null,
   "metadata": {
    "collapsed": true
   },
   "outputs": [],
   "source": [
    "for x in tree_iter(t):\n",
    "    print(x)"
   ]
  },
  {
   "cell_type": "code",
   "execution_count": null,
   "metadata": {
    "collapsed": true
   },
   "outputs": [],
   "source": [
    "class NaryLink:\n",
    "    def __init__(self, val, n=2):\n",
    "        self.val = val\n",
    "        self.children = [None] * n\n",
    "        \n",
    "    def __getitem__(self, idx):\n",
    "        return self.children[idx]\n",
    "    \n",
    "    def __setitem__(self, idx, val):\n",
    "        self.children[idx] = val\n",
    "        \n",
    "    def __iter__(self):\n",
    "        for c in self.children:\n",
    "            yield c"
   ]
  },
  {
   "cell_type": "code",
   "execution_count": null,
   "metadata": {
    "collapsed": false
   },
   "outputs": [],
   "source": [
    "root = NaryLink('Kingdoms', n=5)\n",
    "\n",
    "root[0] = NaryLink('Animalia', n=35)\n",
    "root[1] = NaryLink('Plantae', n=12)\n",
    "root[2] = NaryLink('Fungi', n=7)\n",
    "root[3] = NaryLink('Protista', n=5)\n",
    "root[4] = NaryLink('Monera', n=5)\n",
    "# Fungi kingdom\n",
    "root[2][0] = NaryLink('Chytridiomycota')\n",
    "root[2][1] = NaryLink('Blastocladiomycota')\n",
    "root[2][2] = NaryLink('Glomeromycota')\n",
    "root[2][3] = NaryLink('Ascomycota')\n",
    "root[2][4] = NaryLink('Basidiomycota')\n",
    "root[2][5] = NaryLink('Microsporidia')\n",
    "root[2][6] = NaryLink('Neocallimastigomycota')\n",
    "\n",
    "def tree_iter(root):\n",
    "    if root:\n",
    "        yield root.val\n",
    "        for c in root:\n",
    "            yield from tree_iter(c)"
   ]
  },
  {
   "cell_type": "code",
   "execution_count": null,
   "metadata": {
    "collapsed": false,
    "scrolled": true
   },
   "outputs": [],
   "source": [
    "for x in tree_iter(root):\n",
    "    print(x)\n",
    "'''\n",
    "Takeaway: Linked Structures are incredibly flexible.\n",
    "Can create arbitrarily complex structures where data can be related \n",
    "to other data through the use of references.\n",
    "'''"
   ]
  }
 ],
 "metadata": {
  "kernelspec": {
   "display_name": "Python 3",
   "language": "python",
   "name": "python3"
  },
  "language_info": {
   "codemirror_mode": {
    "name": "ipython",
    "version": 3
   },
   "file_extension": ".py",
   "mimetype": "text/x-python",
   "name": "python",
   "nbconvert_exporter": "python",
   "pygments_lexer": "ipython3",
   "version": "3.6.0"
  }
 },
 "nbformat": 4,
 "nbformat_minor": 0
}
